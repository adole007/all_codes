{
 "cells": [
  {
   "cell_type": "markdown",
   "metadata": {
    "id": "oFIozaUExVEL"
   },
   "source": [
    "# Mount the drive & download required package\n",
    "This notebook was made for Colab usage. If running on local, the next cell can be ommitted."
   ]
  },
  {
   "cell_type": "code",
   "execution_count": null,
   "metadata": {},
   "outputs": [],
   "source": [
    "!pip install dgl-cu101\n",
    "!pip install scikit-optimize\n",
    "!pip install boto3\n",
    "from google.colab import drive\n",
    "drive.mount('/content/drive')\n",
    "import sys\n",
    "sys.path.append('/content/drive/My Drive/Code/')\n",
    "%cd /content/drive/My\\ Drive/Code/\n",
    "\n",
    "from torch.multiprocessing import Pool, Process, set_start_method\n",
    "try:\n",
    "    set_start_method('spawn')\n",
    "except RuntimeError:\n",
    "    pass"
   ]
  },
  {
   "cell_type": "markdown",
   "metadata": {
    "id": "0vYgFk5KxHBJ"
   },
   "source": [
    "# Use case 1 : Hyperparametrization"
   ]
  },
  {
   "cell_type": "code",
   "execution_count": null,
   "metadata": {},
   "outputs": [],
   "source": [
    "!python main.py --from_beginning -v --visualization --check_embedding --remove 0.85 --num_epochs 100 --patience 5 --edge_batch_size 1024 --item_id_type 'ITEM IDENTIFIER' --duplicates 'keep_all'"
   ]
  },
  {
   "cell_type": "markdown",
   "metadata": {
    "id": "BHekS5cQxjGZ"
   },
   "source": [
    "# Use case 2 : Full training"
   ]
  },
  {
   "cell_type": "code",
   "execution_count": null,
   "metadata": {},
   "outputs": [],
   "source": [
    "!python main_train.py --fixed_params_path test/fixed_params_example.pkl --params_path test/params_example.pkl --visualization --check_embedding --remove .85 --edge_batch_size 512"
   ]
  },
  {
   "cell_type": "markdown",
   "metadata": {
    "id": "vZeLHdtTxjfT"
   },
   "source": [
    "# Use case 3 : Inference"
   ]
  },
  {
   "cell_type": "markdown",
   "metadata": {
    "id": "eGkv8ffZ4y26"
   },
   "source": [
    "## 3.1 : Specific users, creating the graph"
   ]
  },
  {
   "cell_type": "code",
   "execution_count": null,
   "metadata": {},
   "outputs": [],
   "source": [
    "!python main_inference.py --params_path test/final_params_example.pkl --user_ids 123456 \\\n",
    "--user_ids 654321 --user_ids 999 \\\n",
    "--trained_model_path test/final_model_trained_example.pth --k 10 --remove .99"
   ]
  },
  {
   "cell_type": "markdown",
   "metadata": {
    "id": "qlZ-rbWW46Ue"
   },
   "source": [
    "## 3.1 : All users, importing the graph"
   ]
  },
  {
   "cell_type": "code",
   "execution_count": null,
   "metadata": {
    "pycharm": {
     "name": "#%%\n"
    }
   },
   "outputs": [],
   "source": [
    "!python main_inference.py --params_path test/final_params_example.pkl \\\n",
    "--user_ids all --use_saved_graph --graph_path test/final_graph_example.bin --ctm_id_path test/final_ctm_id_example.pkl \\\n",
    "--pdt_id_path test/final_pdt_id_example.pkl --trained_model_path test/final_model_trained_example.pth \\\n",
    "--k 10 --remove 0"
   ]
  }
 ],
 "metadata": {
  "accelerator": "GPU",
  "colab": {
   "collapsed_sections": [],
   "machine_shape": "hm",
   "name": "UseCases.ipynb",
   "provenance": []
  },
  "kernelspec": {
   "display_name": "Python 3",
   "language": "python",
   "name": "python3"
  },
  "language_info": {
   "codemirror_mode": {
    "name": "ipython",
    "version": 3
   },
   "file_extension": ".py",
   "mimetype": "text/x-python",
   "name": "python",
   "nbconvert_exporter": "python",
   "pygments_lexer": "ipython3",
   "version": "3.8.3"
  }
 },
 "nbformat": 4,
 "nbformat_minor": 4
}