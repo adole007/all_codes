{
 "cells": [
  {
   "cell_type": "code",
   "execution_count": 16,
   "metadata": {},
   "outputs": [
    {
     "name": "stdout",
     "output_type": "stream",
     "text": [
      "['1_3a26new_resized.jpg', '1_3a75new_resized.jpg', '1_3b36new_resized.jpg', '1_3a70new_resized.jpg', '1_3b46new_resized.jpg', '1_3b64new_resized.jpg', '1_3a5anew_resized.jpg', '1_3a6dnew_resized.jpg', '1_3b25new_resized.jpg', '1_3b3bnew_resized.jpg', '1_3a23new_resized.jpg', '1_3a50new_resized.jpg', '1_3b35new_resized.jpg', '1_3b29new_resized.jpg', '1_3b2fnew_resized.jpg', '1_3a66new_resized.jpg']\n",
      "['new_resized', 'new_resized', 'new_resized', 'new_resized', 'new_resized', 'new_resized', 'new_resized', 'new_resized', 'new_resized', 'new_resized', 'new_resized', 'new_resized', 'new_resized', 'new_resized', 'new_resized', 'new_resized']\n"
     ]
    }
   ],
   "source": [
    "import os \n",
    "import random\n",
    "from PIL import Image\n",
    "import numpy as np\n",
    "import sys\n",
    "import PIL\n",
    "\n",
    "NUM_PIC = \n",
    "UNIT_SIZE = 50 # the size of image\n",
    "UNIT_HEIGH = 50 \n",
    "def merge(images,num):\n",
    "    target = Image.new('RGB', (UNIT_SIZE*NUM_PIC, UNIT_HEIGH*(NUM_PIC+1)))   # result is 2*5\n",
    "    for i in range(len(images)):\n",
    "        if(i%NUM_PIC==0):\n",
    "            if(i==0):\n",
    "                left = 0\n",
    "                lefthight = 0\n",
    "                right = UNIT_SIZE\n",
    "                righthight = UNIT_HEIGH\n",
    "            else:\n",
    "                left = 0\n",
    "                lefthight = lefthight + UNIT_HEIGH\n",
    "                right = UNIT_SIZE\n",
    "                righthight = righthight + UNIT_HEIGH\n",
    "            target.paste(images[i], (left, lefthight, right, righthight))\n",
    "            left += UNIT_SIZE \n",
    "            right += UNIT_SIZE \n",
    "        else:\n",
    "            target.paste(images[i], (left, lefthight, right, righthight))\n",
    "            left += UNIT_SIZE \n",
    "            right += UNIT_SIZE \n",
    "    gap = Image.new('RGB',(UNIT_SIZE*NUM_PIC,UNIT_HEIGH))\n",
    "    target.paste(gap,(0,UNIT_HEIGH*NUM_PIC,UNIT_SIZE*NUM_PIC,UNIT_HEIGH*NUM_PIC+UNIT_HEIGH))\n",
    "    quality_value = 100\n",
    "    cb=target.save('T2not.png', quality = quality_value)\n",
    "\n",
    "rootdir = os.listdir('C:/Users/Anthony/Downloads/Dataset/resize_aspect_ratio/')\n",
    "picSize = NUM_PIC\n",
    "randlist = []\n",
    "for i in range(picSize * picSize):\n",
    "    tmp = random.randint(1,len(rootdir))\n",
    "    randlist.append(rootdir[tmp])\n",
    "\n",
    "path = 'C:/Users/Anthony/Downloads/Dataset/resize_aspect_ratio/'\n",
    "num = NUM_PIC * NUM_PIC\n",
    "images = []\n",
    "for i in range(num):\n",
    "    images.append(Image.open(path+randlist[i])) \n",
    "print(randlist)\n",
    "#print(images)\n",
    "#myList = randlist\n",
    "#myList = [i.split('.')[0] for i in myList]\n",
    "print([i.split('.')[0][-4:] for i in randlist])\n",
    "merge(images,num)\n"
   ]
  },
  {
   "cell_type": "code",
   "execution_count": null,
   "metadata": {},
   "outputs": [],
   "source": [
    "\n",
    "#!/usr/bin/python\n",
    "from PIL import Image\n",
    "import os, sys\n",
    "\n",
    "path = \"C:/Users/coaaa2/Desktop/check/result1.png\"\n",
    "dirs = os.listdir( path )\n",
    "\n",
    "def resize():\n",
    "    for item in dirs:\n",
    "        if os.path.isfile(path+item):\n",
    "            im = Image.open(path+item)\n",
    "            f, e = os.path.splitext(path+item)\n",
    "            imResize = im.resize((100,200), Image.ANTIALIAS)\n",
    "            imResize.save(f + '.jpg', 'JPEG', quality=90)\n",
    "\n",
    "resize()"
   ]
  },
  {
   "cell_type": "code",
   "execution_count": 2,
   "metadata": {},
   "outputs": [
    {
     "ename": "UnidentifiedImageError",
     "evalue": "cannot identify image file 'C:/Users/Anthony/Downloads/Dataset/1000_dataset for 2nd biophilic survey/1922.4790 - An Italian Comedy in Verona.jpg'",
     "output_type": "error",
     "traceback": [
      "\u001b[1;31m---------------------------------------------------------------------------\u001b[0m",
      "\u001b[1;31mUnidentifiedImageError\u001b[0m                    Traceback (most recent call last)",
      "\u001b[1;32m<ipython-input-2-a33ad0fb0481>\u001b[0m in \u001b[0;36m<module>\u001b[1;34m\u001b[0m\n\u001b[0;32m     23\u001b[0m             \u001b[0mnew_im\u001b[0m\u001b[1;33m.\u001b[0m\u001b[0msave\u001b[0m\u001b[1;33m(\u001b[0m\u001b[0moutput_path\u001b[0m \u001b[1;33m+\u001b[0m \u001b[1;34m'.png'\u001b[0m\u001b[1;33m,\u001b[0m \u001b[1;34m'PNG'\u001b[0m\u001b[1;33m,\u001b[0m \u001b[0mquality\u001b[0m\u001b[1;33m=\u001b[0m\u001b[1;36m90\u001b[0m\u001b[1;33m)\u001b[0m\u001b[1;33m\u001b[0m\u001b[1;33m\u001b[0m\u001b[0m\n\u001b[0;32m     24\u001b[0m             \u001b[1;31m#new_im.save(f + '_resize_.png', 'PNG', quality=90)\u001b[0m\u001b[1;33m\u001b[0m\u001b[1;33m\u001b[0m\u001b[1;33m\u001b[0m\u001b[0m\n\u001b[1;32m---> 25\u001b[1;33m \u001b[0mresize_aspect_fit\u001b[0m\u001b[1;33m(\u001b[0m\u001b[1;33m)\u001b[0m\u001b[1;33m\u001b[0m\u001b[1;33m\u001b[0m\u001b[0m\n\u001b[0m",
      "\u001b[1;32m<ipython-input-2-a33ad0fb0481>\u001b[0m in \u001b[0;36mresize_aspect_fit\u001b[1;34m()\u001b[0m\n\u001b[0;32m     13\u001b[0m             \u001b[1;32mcontinue\u001b[0m\u001b[1;33m\u001b[0m\u001b[1;33m\u001b[0m\u001b[0m\n\u001b[0;32m     14\u001b[0m         \u001b[1;32mif\u001b[0m \u001b[0mos\u001b[0m\u001b[1;33m.\u001b[0m\u001b[0mpath\u001b[0m\u001b[1;33m.\u001b[0m\u001b[0misfile\u001b[0m\u001b[1;33m(\u001b[0m\u001b[0mpath\u001b[0m\u001b[1;33m+\u001b[0m\u001b[0mitem\u001b[0m\u001b[1;33m)\u001b[0m\u001b[1;33m:\u001b[0m\u001b[1;33m\u001b[0m\u001b[1;33m\u001b[0m\u001b[0m\n\u001b[1;32m---> 15\u001b[1;33m             \u001b[0mim\u001b[0m \u001b[1;33m=\u001b[0m \u001b[0mImage\u001b[0m\u001b[1;33m.\u001b[0m\u001b[0mopen\u001b[0m\u001b[1;33m(\u001b[0m\u001b[0mpath\u001b[0m\u001b[1;33m+\u001b[0m\u001b[0mitem\u001b[0m\u001b[1;33m)\u001b[0m\u001b[1;33m\u001b[0m\u001b[1;33m\u001b[0m\u001b[0m\n\u001b[0m\u001b[0;32m     16\u001b[0m             \u001b[0moutput_path\u001b[0m\u001b[1;33m,\u001b[0m \u001b[0me\u001b[0m \u001b[1;33m=\u001b[0m \u001b[0mos\u001b[0m\u001b[1;33m.\u001b[0m\u001b[0mpath\u001b[0m\u001b[1;33m.\u001b[0m\u001b[0msplitext\u001b[0m\u001b[1;33m(\u001b[0m\u001b[0mpath\u001b[0m\u001b[1;33m+\u001b[0m\u001b[0mitem\u001b[0m\u001b[1;33m)\u001b[0m\u001b[1;33m\u001b[0m\u001b[1;33m\u001b[0m\u001b[0m\n\u001b[0;32m     17\u001b[0m             \u001b[0msize\u001b[0m \u001b[1;33m=\u001b[0m \u001b[0mim\u001b[0m\u001b[1;33m.\u001b[0m\u001b[0msize\u001b[0m\u001b[1;33m\u001b[0m\u001b[1;33m\u001b[0m\u001b[0m\n",
      "\u001b[1;32m~\\anaconda3\\envs\\envname\\lib\\site-packages\\PIL\\Image.py\u001b[0m in \u001b[0;36mopen\u001b[1;34m(fp, mode, formats)\u001b[0m\n\u001b[0;32m   3029\u001b[0m         \u001b[0mwarnings\u001b[0m\u001b[1;33m.\u001b[0m\u001b[0mwarn\u001b[0m\u001b[1;33m(\u001b[0m\u001b[0mmessage\u001b[0m\u001b[1;33m)\u001b[0m\u001b[1;33m\u001b[0m\u001b[1;33m\u001b[0m\u001b[0m\n\u001b[0;32m   3030\u001b[0m     raise UnidentifiedImageError(\n\u001b[1;32m-> 3031\u001b[1;33m         \u001b[1;34m\"cannot identify image file %r\"\u001b[0m \u001b[1;33m%\u001b[0m \u001b[1;33m(\u001b[0m\u001b[0mfilename\u001b[0m \u001b[1;32mif\u001b[0m \u001b[0mfilename\u001b[0m \u001b[1;32melse\u001b[0m \u001b[0mfp\u001b[0m\u001b[1;33m)\u001b[0m\u001b[1;33m\u001b[0m\u001b[1;33m\u001b[0m\u001b[0m\n\u001b[0m\u001b[0;32m   3032\u001b[0m     )\n\u001b[0;32m   3033\u001b[0m \u001b[1;33m\u001b[0m\u001b[0m\n",
      "\u001b[1;31mUnidentifiedImageError\u001b[0m: cannot identify image file 'C:/Users/Anthony/Downloads/Dataset/1000_dataset for 2nd biophilic survey/1922.4790 - An Italian Comedy in Verona.jpg'"
     ]
    }
   ],
   "source": [
    "from PIL import Image\n",
    "import os, sys\n",
    "\n",
    "path = \"C:/Users/Anthony/Downloads/Dataset/1000_dataset for 2nd biophilic survey/\"\n",
    "output_path = \"C:/Users/coaaa2/Desktop/resized/\"\n",
    "dirs = os.listdir( path )\n",
    "final_size = 400;\n",
    "\n",
    "def resize_aspect_fit():\n",
    "    for item in dirs:\n",
    "        if item == '.DS_Store':\n",
    "            print(item)\n",
    "            continue\n",
    "        if os.path.isfile(path+item):\n",
    "            im = Image.open(path+item)\n",
    "            output_path, e = os.path.splitext(path+item)\n",
    "            size = im.size\n",
    "            ratio = float(final_size) / max(size)\n",
    "            new_image_size = tuple([int(x*ratio) for x in size])\n",
    "            im = im.resize(new_image_size, Image.ANTIALIAS)\n",
    "            new_im = Image.new(\"RGB\", (final_size, final_size))\n",
    "            new_im.paste(im, ((final_size-new_image_size[0])//2, (final_size-new_image_size[1])//2))\n",
    "            new_im.save(output_path + '.png', 'PNG', quality=90)\n",
    "            #new_im.save(f + '_resize_.png', 'PNG', quality=90)\n",
    "resize_aspect_fit()"
   ]
  },
  {
   "cell_type": "code",
   "execution_count": 4,
   "metadata": {},
   "outputs": [],
   "source": [
    "#!/usr/bin/python\n",
    "from PIL import Image\n",
    "import os, sys\n",
    "\n",
    "path = \"C:/Users/coaaa2/Desktop/check/result1.png\"\n",
    "\n",
    "im = Image.open(path)\n",
    "f, e = os.path.splitext(path)\n",
    "imResize = im.resize((100,200), Image.ANTIALIAS)\n",
    "imResize.save(f + 'new_resized.jpg', 'JPEG', quality=90)"
   ]
  },
  {
   "cell_type": "code",
   "execution_count": 16,
   "metadata": {},
   "outputs": [],
   "source": [
    "from PIL import Image\n",
    "import os, sys\n",
    "import os \n",
    "import random\n",
    "from PIL import Image\n",
    "import numpy as np\n",
    "import sys\n",
    "import PIL\n",
    "\n",
    "path = \"C:/Users/Anthony/Downloads/Dataset/1000_dataset for 2nd biophilic survey/\"\n",
    "output_path = \"C:/Users/coaaa2/Desktop/Dataset/resized/\"\n",
    "dirs = os.listdir( path )\n",
    "final_size = 400;\n",
    "\n",
    "def resize_aspect_fit():\n",
    "    for item in dirs:\n",
    "        if item == '.DS_Store':\n",
    "            continue\n",
    "        if os.path.isfile(path+item):\n",
    "            im = Image.open(path+item)\n",
    "            output_path, e = os.path.splitext(path+item)\n",
    "            \n",
    "            size = im.size\n",
    "            ratio = float(final_size) / max(size)\n",
    "            new_image_size = tuple([int(x*ratio) for x in size])\n",
    "            im = im.resize(new_image_size, Image.ANTIALIAS)\n",
    "            new_im = Image.new(\"RGB\", (final_size, final_size))\n",
    "            new_im.paste(im, ((final_size-new_image_size[0])//2, (final_size-new_image_size[1])//2))\n",
    "            new_im.save(output_path + '.jpg', 'JPEG', quality=90)\n",
    "            print(new_im)\n",
    "            #new_im.save(f + '_resize_.png', 'PNG', quality=90)\n",
    "resize_aspect_fit()"
   ]
  },
  {
   "cell_type": "code",
   "execution_count": 18,
   "metadata": {},
   "outputs": [],
   "source": [
    "resize_aspect_fit()"
   ]
  },
  {
   "cell_type": "code",
   "execution_count": null,
   "metadata": {},
   "outputs": [],
   "source": []
  }
 ],
 "metadata": {
  "kernelspec": {
   "display_name": "Python 3",
   "language": "python",
   "name": "python3"
  },
  "language_info": {
   "codemirror_mode": {
    "name": "ipython",
    "version": 3
   },
   "file_extension": ".py",
   "mimetype": "text/x-python",
   "name": "python",
   "nbconvert_exporter": "python",
   "pygments_lexer": "ipython3",
   "version": "3.6.13"
  }
 },
 "nbformat": 4,
 "nbformat_minor": 4
}
